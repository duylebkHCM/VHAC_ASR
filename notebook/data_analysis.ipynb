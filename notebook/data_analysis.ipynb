{
 "cells": [
  {
   "cell_type": "code",
   "execution_count": null,
   "metadata": {},
   "outputs": [],
   "source": [
    "import matplotlib.pyplot as plt\n",
    "import torchaudio\n",
    "import numpy\n",
    "import glob\n",
    "from pathlib import Path\n",
    "\n",
    "import torch\n",
    "from speechbrain.dataio.dataio import read_audio\n",
    "from speechbrain.processing.features import STFT\n",
    "from IPython.display import Audio\n",
    "from speechbrain.processing.features import spectral_magnitude\n",
    "from speechbrain.processing.features import Filterbank"
   ]
  },
  {
   "cell_type": "code",
   "execution_count": null,
   "metadata": {},
   "outputs": [],
   "source": [
    "training_dir1 = Path('/data/ocr/duyla4/Research/Sequence_Modeling/ASR/dataset/training/dataset1')\n",
    "training_dir2 = Path('/data/ocr/duyla4/Research/Sequence_Modeling/ASR/dataset/training/dataset2')"
   ]
  },
  {
   "cell_type": "code",
   "execution_count": null,
   "metadata": {},
   "outputs": [],
   "source": [
    "all_exts = [item.suffix for item in (list(training_dir1.rglob('*')) + list(training_dir2.rglob('*')))]\n",
    "all_exts = set(all_exts)\n",
    "print(all_exts)"
   ]
  },
  {
   "cell_type": "code",
   "execution_count": null,
   "metadata": {},
   "outputs": [],
   "source": [
    "all_training_audios = list(training_dir1.rglob('*.wav')) + list(training_dir2.rglob('*.wav'))"
   ]
  },
  {
   "cell_type": "code",
   "execution_count": null,
   "metadata": {},
   "outputs": [],
   "source": [
    "print(len(all_training_audios))"
   ]
  },
  {
   "cell_type": "code",
   "execution_count": null,
   "metadata": {},
   "outputs": [],
   "source": [
    "# step-by-step\n",
    "# collect durations\n",
    "all_durations = {}\n",
    "for i, audio in enumerate(all_training_audios):\n",
    "    wav_meta = torchaudio.info(audio.as_posix())\n",
    "    all_durations[audio.as_posix()] = wav_meta.num_frames / wav_meta.sample_rate"
   ]
  },
  {
   "cell_type": "code",
   "execution_count": null,
   "metadata": {},
   "outputs": [],
   "source": [
    "Key_max = max(zip(all_durations.values(), all_durations.keys()))[1]"
   ]
  },
  {
   "cell_type": "code",
   "execution_count": null,
   "metadata": {},
   "outputs": [],
   "source": [
    "sample_rate = numpy.zeros(len(all_training_audios))\n",
    "for i, audio in enumerate(all_training_audios):\n",
    "    wav_meta = torchaudio.info(audio.as_posix())\n",
    "    sample_rate[i] = wav_meta.sample_rate"
   ]
  },
  {
   "cell_type": "code",
   "execution_count": null,
   "metadata": {},
   "outputs": [],
   "source": [
    "set(sample_rate)"
   ]
  },
  {
   "cell_type": "code",
   "execution_count": null,
   "metadata": {},
   "outputs": [],
   "source": [
    "all_durations = numpy.zeros(len(all_training_audios))\n",
    "for i, audio in enumerate(all_training_audios):\n",
    "    wav_meta = torchaudio.info(audio.as_posix())\n",
    "    all_durations[i] = wav_meta.num_frames / wav_meta.sample_rate"
   ]
  },
  {
   "cell_type": "code",
   "execution_count": null,
   "metadata": {},
   "outputs": [],
   "source": [
    "segments = [30, 60, 120, 180, 240]"
   ]
  },
  {
   "cell_type": "code",
   "execution_count": null,
   "metadata": {},
   "outputs": [],
   "source": [
    "from collections import defaultdict"
   ]
  },
  {
   "cell_type": "code",
   "execution_count": null,
   "metadata": {},
   "outputs": [],
   "source": [
    "segment_info = defaultdict(int)\n",
    "for i in all_durations:\n",
    "    for j in segments:\n",
    "        if i <= j:\n",
    "            segment_info[j] += 1\n",
    "            break\n",
    "    else:\n",
    "       segment_info['toobig'] +=1\n"
   ]
  },
  {
   "cell_type": "code",
   "execution_count": null,
   "metadata": {},
   "outputs": [],
   "source": [
    "segment_info"
   ]
  }
 ],
 "metadata": {
  "kernelspec": {
   "display_name": "duyla",
   "language": "python",
   "name": "python3"
  },
  "language_info": {
   "name": "python",
   "version": "3.8.17"
  },
  "orig_nbformat": 4,
  "vscode": {
   "interpreter": {
    "hash": "cf3529a7643f7e43778cbd73e1d5db5e7d443f563b04b67355580afe62887543"
   }
  }
 },
 "nbformat": 4,
 "nbformat_minor": 2
}
